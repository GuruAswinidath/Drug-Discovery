{
  "cells": [
    {
      "cell_type": "markdown",
      "metadata": {
        "id": "1Gw1OEKJ-sE_"
      },
      "source": [
        "# Part 1 Data Collection"
      ]
    },
    {
      "cell_type": "markdown",
      "metadata": {
        "id": "E5KGFVpBsIFO"
      },
      "source": [
        "## **ChEMBL Database**\n",
        "\n",
        "The [*ChEMBL Database*](https://www.ebi.ac.uk/chembl/) is a database that contains curated bioactivity data of more than 2 million compounds. It is compiled from more than 76,000 documents, 1.2 million assays and the data spans 13,000 targets and 1,800 cells and 33,000 indications.\n",
        "[Data as of March 25, 2020; ChEMBL version 26]."
      ]
    },
    {
      "cell_type": "markdown",
      "metadata": {
        "id": "O7EIocKKsY4F"
      },
      "source": [
        "Install the ChEMBL web service package so that we can retrieve bioactivity data from the ChEMBL Database."
      ]
    },
    {
      "cell_type": "code",
      "execution_count": null,
      "metadata": {
        "id": "d76CCHFs9a8j"
      },
      "outputs": [],
      "source": [
        "! pip install chembl_webresource_client"
      ]
    },
    {
      "cell_type": "markdown",
      "metadata": {
        "id": "MCobw28Su3Hq"
      },
      "source": [
        " **Importing libraries**"
      ]
    },
    {
      "cell_type": "code",
      "execution_count": null,
      "metadata": {
        "id": "3oBPufNvsdlT"
      },
      "outputs": [],
      "source": [
        "# Import necessary libraries\n",
        "import pandas as pd\n",
        "from chembl_webresource_client.new_client import new_client"
      ]
    },
    {
      "cell_type": "markdown",
      "metadata": {
        "id": "b-SZComDvHO4"
      },
      "source": [
        "**Target search for coronavirus**"
      ]
    },
    {
      "cell_type": "code",
      "execution_count": null,
      "metadata": {
        "id": "x8fmA9V2u6qp"
      },
      "outputs": [],
      "source": [
        "# Target search for coronavirus\n",
        "target = new_client.target\n",
        "target_query = target.search('Human immunodeficiency virus')\n",
        "targets = pd.DataFrame.from_dict(target_query)\n",
        "targets"
      ]
    },
    {
      "cell_type": "markdown",
      "metadata": {
        "id": "oza-_Juivkpl"
      },
      "source": [
        "**Select and retrieve bioactivity data for *SARS coronavirus 3C-like proteinase* (nth entry)**"
      ]
    },
    {
      "cell_type": "code",
      "execution_count": null,
      "metadata": {
        "id": "pfZ96o5tvWfa"
      },
      "outputs": [],
      "source": [
        "selected_target = targets.target_chembl_id[4]\n",
        "selected_target"
      ]
    },
    {
      "cell_type": "markdown",
      "metadata": {
        "id": "U42Rtl5iz1sa"
      },
      "source": [
        "Here, we will retrieve only bioactivity data for *coronavirus 3C-like proteinase* (CHEMBL3927) that are reported as IC$_{50}$ values in nM (nanomolar) unit."
      ]
    },
    {
      "cell_type": "code",
      "execution_count": null,
      "metadata": {
        "id": "Nrk_vrqOzfAE"
      },
      "outputs": [],
      "source": [
        "activity = new_client.activity\n",
        "res = activity.filter(target_chembl_id=selected_target).filter(standard_type=\"IC50\")"
      ]
    },
    {
      "cell_type": "code",
      "execution_count": null,
      "metadata": {
        "id": "qfPRjwR307IP"
      },
      "outputs": [],
      "source": [
        "df = pd.DataFrame.from_dict(res)"
      ]
    },
    {
      "cell_type": "code",
      "execution_count": null,
      "metadata": {
        "id": "V-HvqWml0-F7"
      },
      "outputs": [],
      "source": [
        "df"
      ]
    },
    {
      "cell_type": "code",
      "execution_count": null,
      "metadata": {
        "id": "IK4TBKoN9mOs"
      },
      "outputs": [],
      "source": [
        "df.shape"
      ]
    },
    {
      "cell_type": "code",
      "execution_count": null,
      "metadata": {
        "id": "UPQ8IZWi1DUf"
      },
      "outputs": [],
      "source": [
        "df.standard_type.unique()"
      ]
    },
    {
      "cell_type": "markdown",
      "metadata": {
        "id": "TXf91v2s2anV"
      },
      "source": [
        "We are collected the data from the chEMBL dataset. now saving the data into csv file."
      ]
    },
    {
      "cell_type": "code",
      "execution_count": null,
      "metadata": {
        "id": "upsapMW_2VRL"
      },
      "outputs": [],
      "source": [
        "df.to_csv('bioactivity_data.csv', index=False)"
      ]
    },
    {
      "cell_type": "markdown",
      "metadata": {
        "id": "i1Jmt1S_5gC9"
      },
      "source": [
        " The statement emphasizes that a lower drug concentration is generally preferred because it implies that a smaller amount of the drug is needed to achieve the desired effect. Conversely, a higher concentration would require a larger volume of the medication, which may not be feasible or practical in many situations."
      ]
    },
    {
      "cell_type": "markdown",
      "metadata": {
        "id": "tyUKTux853Rq"
      },
      "source": [
        "**Copying the files to Drive**"
      ]
    },
    {
      "cell_type": "code",
      "execution_count": null,
      "metadata": {
        "id": "W9ftvX302Xdz"
      },
      "outputs": [],
      "source": [
        "from google.colab import drive\n",
        "drive.mount('/content/gdrive/', force_remount=True)"
      ]
    },
    {
      "cell_type": "markdown",
      "metadata": {
        "id": "LR8Xmqj17PRm"
      },
      "source": [
        "Next, we create a **data** folder in our **Colab Notebooks** folder on Google Drive."
      ]
    },
    {
      "cell_type": "code",
      "execution_count": null,
      "metadata": {
        "id": "KpxUrmox6-0D"
      },
      "outputs": [],
      "source": [
        "! mkdir \"/content/gdrive/My Drive/Colab Notebooks/Bio_project\""
      ]
    },
    {
      "cell_type": "markdown",
      "metadata": {
        "id": "vgvbzqPe76g5"
      },
      "source": [
        " Attempting to copy a file named \"bioactivity_data.csv\" to the directory \"/content/gdrive/My Drive/Colab Notebooks/data\" within your Google Drive."
      ]
    },
    {
      "cell_type": "code",
      "execution_count": null,
      "metadata": {
        "id": "EsXZKjfJ7Z5N"
      },
      "outputs": [],
      "source": [
        "! cp bioactivity_data.csv \"/content/gdrive/My Drive/Colab Notebooks/Bio_project\""
      ]
    },
    {
      "cell_type": "code",
      "execution_count": null,
      "metadata": {
        "id": "XwFw6iWz7oe7"
      },
      "outputs": [],
      "source": [
        "! ls -l \"/content/gdrive/My Drive/Colab Notebooks/Bio_project\""
      ]
    },
    {
      "cell_type": "markdown",
      "metadata": {
        "id": "jTCOhXTw8Jfy"
      },
      "source": [
        "Let's see the CSV files that we have so far."
      ]
    },
    {
      "cell_type": "code",
      "execution_count": null,
      "metadata": {
        "id": "UHDIdN2k7z0p"
      },
      "outputs": [],
      "source": [
        "! ls"
      ]
    },
    {
      "cell_type": "markdown",
      "metadata": {
        "id": "QuYLiPZL8Sit"
      },
      "source": [
        "Taking a glimpse of the **bioactivity_data.csv** file that we've just created."
      ]
    },
    {
      "cell_type": "code",
      "execution_count": null,
      "metadata": {
        "id": "SvX-V4XK8MFC"
      },
      "outputs": [],
      "source": [
        "! head bioactivity_data.csv"
      ]
    },
    {
      "cell_type": "markdown",
      "metadata": {
        "id": "B_qrJfpG9Qn8"
      },
      "source": [
        "**Handling missing data**\n",
        "If any compounds has missing value for the **standard_value** column then drop it"
      ]
    },
    {
      "cell_type": "code",
      "execution_count": null,
      "metadata": {
        "id": "XRh50Nwa8R5O"
      },
      "outputs": [],
      "source": [
        "df2= df[df.standard_value.notna()]\n",
        "df2"
      ]
    },
    {
      "cell_type": "markdown",
      "metadata": {
        "id": "WCDSi2Xq-e7Q"
      },
      "source": [
        "Apparently, for this dataset there is no missing data. But we can use the above code cell for bioactivity data of other target protein."
      ]
    },
    {
      "cell_type": "markdown",
      "metadata": {
        "id": "cJD4tp9K-hqF"
      },
      "source": [
        "**Data pre-processing of the bioactivity data**"
      ]
    },
    {
      "cell_type": "markdown",
      "metadata": {
        "id": "r-30QO61-kY7"
      },
      "source": [
        "### **Labeling compounds as either being active, inactive or intermediate**\n",
        "The bioactivity data is in the IC50 unit. Compounds having values of less than 1000 nM will be considered to be **active** while those greater than 10,000 nM will be considered to be **inactive**. As for those values in between 1,000 and 10,000 nM will be referred to as **intermediate**."
      ]
    },
    {
      "cell_type": "code",
      "execution_count": null,
      "metadata": {
        "id": "Wz51AbON9ij_"
      },
      "outputs": [],
      "source": [
        "bioactivity_class = []\n",
        "for i in df2.standard_value:\n",
        "  if float(i) >= 10000:\n",
        "    bioactivity_class.append(\"inactive\")\n",
        "  elif float(i) <= 1000:\n",
        "    bioactivity_class.append(\"active\")\n",
        "  else:\n",
        "    bioactivity_class.append(\"intermediate\")"
      ]
    },
    {
      "cell_type": "markdown",
      "metadata": {
        "id": "rLmlein7-spi"
      },
      "source": [
        "Iterate the Molecule_cheml_id, canonical_smiles,Standard_value and bioactivity_class into a list"
      ]
    },
    {
      "cell_type": "code",
      "execution_count": null,
      "metadata": {
        "id": "9zzJJpAn-m8U"
      },
      "outputs": [],
      "source": [
        "mol_cid = []\n",
        "for i in df2.molecule_chembl_id:\n",
        "  mol_cid.append(i)"
      ]
    },
    {
      "cell_type": "code",
      "execution_count": null,
      "metadata": {
        "id": "fJ_unHRZ_AwD"
      },
      "outputs": [],
      "source": [
        "canonical_smiles = []\n",
        "for i in df2.canonical_smiles:\n",
        "  canonical_smiles.append(i)"
      ]
    },
    {
      "cell_type": "code",
      "execution_count": null,
      "metadata": {
        "id": "MoqhVa96_Lvd"
      },
      "outputs": [],
      "source": [
        "standard_value= []\n",
        "for i in df2.standard_value:\n",
        "  standard_value.append(i)"
      ]
    },
    {
      "cell_type": "markdown",
      "metadata": {
        "id": "eMqOVuPs_Wz-"
      },
      "source": [
        "Combining the list into a dataframe"
      ]
    },
    {
      "cell_type": "code",
      "execution_count": null,
      "metadata": {
        "id": "7_TsTrKe_VSr"
      },
      "outputs": [],
      "source": [
        "data_tuples = list(zip(mol_cid, canonical_smiles, bioactivity_class, standard_value))\n",
        "df3 = pd.DataFrame( data_tuples,  columns=['molecule_chembl_id', 'canonical_smiles', 'bioactivity_class', 'standard_value'])"
      ]
    },
    {
      "cell_type": "code",
      "execution_count": null,
      "metadata": {
        "id": "z9FM8mL5_f_x"
      },
      "outputs": [],
      "source": [
        "df3"
      ]
    },
    {
      "cell_type": "code",
      "execution_count": null,
      "metadata": {
        "id": "XMXvVrwoL6XO"
      },
      "outputs": [],
      "source": [
        "df3.shape"
      ]
    },
    {
      "cell_type": "markdown",
      "metadata": {
        "id": "SkHhZ158_lYS"
      },
      "source": [
        "Alternative method"
      ]
    },
    {
      "cell_type": "code",
      "execution_count": null,
      "metadata": {
        "id": "oKC5YmTe_hK0"
      },
      "outputs": [],
      "source": [
        "#selection = ['molecule_chembl_id', 'canonical_smiles', 'standard_value']\n",
        "#df3 = df2[selection]\n",
        "#df3"
      ]
    },
    {
      "cell_type": "code",
      "execution_count": null,
      "metadata": {
        "id": "bI61Dd17_ods"
      },
      "outputs": [],
      "source": [
        "#df4=pd.concat([df3,pd.Series(bioactivity_class)], axis=1)\n",
        "#df4"
      ]
    },
    {
      "cell_type": "code",
      "execution_count": null,
      "metadata": {
        "id": "NAlS_k9lDPZj"
      },
      "outputs": [],
      "source": [
        "#df4.columns"
      ]
    },
    {
      "cell_type": "code",
      "execution_count": null,
      "metadata": {
        "id": "tfyVR2KDDjLI"
      },
      "outputs": [],
      "source": [
        "#df4 = df4.rename(columns={0: 'bio_activity_class'})\n",
        "#df4"
      ]
    },
    {
      "cell_type": "code",
      "execution_count": null,
      "metadata": {
        "id": "QvT-4cYeA6J3"
      },
      "outputs": [],
      "source": [
        "df3.to_csv('bioactivity_preprocessed_data.csv', index=False)\n",
        "df3"
      ]
    },
    {
      "cell_type": "code",
      "execution_count": null,
      "metadata": {
        "id": "bB9RNCjhE_e8"
      },
      "outputs": [],
      "source": [
        "! ls -l"
      ]
    },
    {
      "cell_type": "markdown",
      "metadata": {
        "id": "N5CmMrZGFE36"
      },
      "source": [
        "Let's copy to the Google Drive"
      ]
    },
    {
      "cell_type": "code",
      "execution_count": null,
      "metadata": {
        "id": "D9Gx0f7WFBaN"
      },
      "outputs": [],
      "source": [
        "! cp bioactivity_preprocessed_data.csv \"/content/gdrive/My Drive/Colab Notebooks/Bio_project\""
      ]
    },
    {
      "cell_type": "code",
      "execution_count": null,
      "metadata": {
        "id": "eOW6aJdIFHa5"
      },
      "outputs": [],
      "source": [
        "! ls \"/content/gdrive/My Drive/Colab Notebooks/Bio_project\""
      ]
    },
    {
      "cell_type": "markdown",
      "metadata": {
        "id": "BUFpZq3ww6BT"
      },
      "source": [
        "# Part 2 Expolring the Data Analysis"
      ]
    },
    {
      "cell_type": "code",
      "execution_count": null,
      "metadata": {
        "id": "1TWIpHwsG1Ss"
      },
      "outputs": [],
      "source": [
        "from google.colab import drive\n",
        "drive.mount('/content/drive')"
      ]
    },
    {
      "cell_type": "code",
      "execution_count": null,
      "metadata": {
        "id": "n10WFJzVxDHW"
      },
      "outputs": [],
      "source": [
        "! wget https://repo.anaconda.com/miniconda/Miniconda3-py37_4.8.2-Linux-x86_64.sh\n",
        "! chmod +x Miniconda3-py37_4.8.2-Linux-x86_64.sh\n",
        "! bash ./Miniconda3-py37_4.8.2-Linux-x86_64.sh -b -f -p /usr/local\n",
        "! conda install -c rdkit rdkit -y\n",
        "import sys\n",
        "sys.path.append('/usr/local/lib/python3.7/site-packages/')"
      ]
    },
    {
      "cell_type": "markdown",
      "metadata": {
        "id": "Y6q0I42454lp"
      },
      "source": [
        "**Load Bioactivity data**"
      ]
    },
    {
      "cell_type": "code",
      "execution_count": null,
      "metadata": {
        "id": "3lcYu15B5hi6"
      },
      "outputs": [],
      "source": [
        "import pandas as pd"
      ]
    },
    {
      "cell_type": "code",
      "execution_count": null,
      "metadata": {
        "id": "3uKPEi686AjI"
      },
      "outputs": [],
      "source": [
        "df = pd.read_csv(\"//content/bioactivity_preprocessed_data.csv\")"
      ]
    },
    {
      "cell_type": "code",
      "execution_count": null,
      "metadata": {
        "id": "S5xDSBJ5Ixcp"
      },
      "outputs": [],
      "source": [
        "df"
      ]
    },
    {
      "cell_type": "markdown",
      "metadata": {
        "id": "jFMqYE5T7IPT"
      },
      "source": [
        "**Calculate Lipinski descriptors**\n",
        "Christopher Lipinski, a scientist at Pfizer, came up with a set of rule-of-thumb for evaluating the **druglikeness** of compounds. Such druglikeness is based on the Absorption, Distribution, Metabolism and Excretion (ADME) that is also known as the pharmacokinetic profile. Lipinski analyzed all orally active FDA-approved drugs in the formulation of what is to be known as the **Rule-of-Five** or **Lipinski's Rule**.\n",
        "\n",
        "The Lipinski's Rule stated the following:\n",
        "* Molecular weight < 500 Dalton\n",
        "* Octanol-water partition coefficient (LogP) < 5\n",
        "* Hydrogen bond donors < 5\n",
        "* Hydrogen bond acceptors < 10"
      ]
    },
    {
      "cell_type": "code",
      "execution_count": null,
      "metadata": {
        "id": "mKy0qG-P7r2f"
      },
      "outputs": [],
      "source": [
        "! pip install rdkit"
      ]
    },
    {
      "cell_type": "code",
      "execution_count": null,
      "metadata": {
        "id": "a4JaPG5-6Iox"
      },
      "outputs": [],
      "source": [
        "#importing the libraries\n",
        "\n",
        "import numpy as np\n",
        "from rdkit import Chem\n",
        "from rdkit.Chem import Descriptors, Lipinski"
      ]
    },
    {
      "cell_type": "code",
      "execution_count": null,
      "metadata": {
        "id": "AKlMHN-_7W0i"
      },
      "outputs": [],
      "source": [
        "import numpy as np\n",
        "import pandas as pd\n",
        "from rdkit import Chem\n",
        "from rdkit.Chem import Descriptors, Lipinski\n",
        "\n",
        "def lipinski(smiles, verbose=False):\n",
        "    moldata = []\n",
        "    for elem in smiles:\n",
        "        mol = Chem.MolFromSmiles(elem)\n",
        "        if mol is not None:\n",
        "            moldata.append(mol)\n",
        "        else:\n",
        "            print(f\"Invalid SMILES string: {elem}\")\n",
        "\n",
        "    if not moldata:\n",
        "        print(\"No valid molecules found. Check your input SMILES strings.\")\n",
        "        return None\n",
        "\n",
        "    baseData = np.arange(1, 1)\n",
        "    i = 0\n",
        "    for mol in moldata:\n",
        "        desc_MolWt = Descriptors.MolWt(mol)\n",
        "        desc_MolLogP = Descriptors.MolLogP(mol)\n",
        "        desc_NumHDonors = Lipinski.NumHDonors(mol)\n",
        "        desc_NumHAcceptors = Lipinski.NumHAcceptors(mol)\n",
        "\n",
        "        row = np.array([desc_MolWt, desc_MolLogP, desc_NumHDonors, desc_NumHAcceptors])\n",
        "\n",
        "        if i == 0:\n",
        "            baseData = row\n",
        "        else:\n",
        "            baseData = np.vstack([baseData, row])\n",
        "        i = i + 1\n",
        "\n",
        "    columnNames = [\"MW\", \"LogP\", \"NumHDonors\", \"NumHAcceptors\"]\n",
        "    descriptors = pd.DataFrame(data=baseData, columns=columnNames)\n",
        "\n",
        "    return descriptors\n"
      ]
    },
    {
      "cell_type": "code",
      "execution_count": null,
      "metadata": {
        "id": "SzNcP4YuFdFA"
      },
      "outputs": [],
      "source": [
        "a=df.canonical_smiles\n",
        "smiles_list=list(a)\n",
        "print(smiles_list)\n",
        "\n",
        "descriptors = lipinski(smiles_list)\n",
        "descriptors"
      ]
    },
    {
      "cell_type": "code",
      "execution_count": null,
      "metadata": {
        "id": "SJUPzLGI8MmY"
      },
      "outputs": [],
      "source": [
        "df_lipinski = lipinski(df.canonical_smiles)"
      ]
    },
    {
      "cell_type": "markdown",
      "metadata": {
        "id": "2TFhI3Wz8aAB"
      },
      "source": [
        "**Combining the dataframes**"
      ]
    },
    {
      "cell_type": "code",
      "execution_count": null,
      "metadata": {
        "id": "jI1JctsR8N2W"
      },
      "outputs": [],
      "source": [
        "df_lipinski\n",
        "#MW refers to molecular weight\n",
        "#Lop p refers to solubility\n",
        "#NumHDonors refer to Hydrogen bond donors\n",
        "#NumHAcceptors refer to Hydrogen Bond Acceptors"
      ]
    },
    {
      "cell_type": "code",
      "execution_count": null,
      "metadata": {
        "id": "E7JovFJ5JbS_"
      },
      "outputs": [],
      "source": [
        "df"
      ]
    },
    {
      "cell_type": "code",
      "execution_count": null,
      "metadata": {
        "id": "qlJ9saYK8e3c"
      },
      "outputs": [],
      "source": [
        "df_lipinski.columns"
      ]
    },
    {
      "cell_type": "code",
      "execution_count": null,
      "metadata": {
        "id": "bKqcy2rN8h_f"
      },
      "outputs": [],
      "source": [
        "df.columns"
      ]
    },
    {
      "cell_type": "code",
      "execution_count": null,
      "metadata": {
        "id": "HICNSBie80_G"
      },
      "outputs": [],
      "source": [
        "df_combine=pd.concat([df,df_lipinski],axis=1)"
      ]
    },
    {
      "cell_type": "code",
      "execution_count": null,
      "metadata": {
        "id": "lZp56xFY89fS"
      },
      "outputs": [],
      "source": [
        "df_combine"
      ]
    },
    {
      "cell_type": "markdown",
      "metadata": {
        "id": "0uiTnfSr9xBC"
      },
      "source": [
        "**Convert IC50 to pIC50**\n",
        "To allow **IC50** data to be more uniformly distributed, we will convert **IC50** to the negative logarithmic scale which is essentially **-log10(IC50)**.\n",
        "\n",
        "This custom function pIC50() will accept a DataFrame as input and will:\n",
        "* Take the IC50 values from the ``standard_value`` column and converts it from nM to M by multiplying the value by 10$^{-9}$\n",
        "* Take the molar value and apply -log10\n",
        "* Delete the ``standard_value`` column and create a new ``pIC50`` column"
      ]
    },
    {
      "cell_type": "code",
      "execution_count": null,
      "metadata": {
        "id": "-8pjU9468-8N"
      },
      "outputs": [],
      "source": [
        "import numpy as np\n",
        "\n",
        "def pIC50(input):\n",
        "    pIC50 = []\n",
        "\n",
        "    for i in input['standard_value_norm']:\n",
        "        molar = i*(10**-9) # Converts nM to M\n",
        "        pIC50.append(-np.log10(molar))\n",
        "\n",
        "    input['pIC50'] = pIC50\n",
        "    x = input.drop('standard_value_norm', 1)\n",
        "\n",
        "    return x"
      ]
    },
    {
      "cell_type": "markdown",
      "metadata": {
        "id": "CPvbO-SBArtn"
      },
      "source": [
        "Point to note: Values greater than 100,000,000 will be fixed at 100,000,000 otherwise the negative logarithmic value will become negative."
      ]
    },
    {
      "cell_type": "code",
      "execution_count": null,
      "metadata": {
        "id": "WO7GSrmUAsOd"
      },
      "outputs": [],
      "source": [
        "df_combine.standard_value.describe()"
      ]
    },
    {
      "cell_type": "code",
      "execution_count": null,
      "metadata": {
        "id": "7yhgiTseA2HY"
      },
      "outputs": [],
      "source": [
        "-np.log10( (10**-9)* 10000000000 )"
      ]
    },
    {
      "cell_type": "code",
      "execution_count": null,
      "metadata": {
        "id": "jeN5wLB1BRHB"
      },
      "outputs": [],
      "source": [
        "-np.log10( (10**-9)* 100000000 )"
      ]
    },
    {
      "cell_type": "code",
      "execution_count": null,
      "metadata": {
        "id": "gBXeNkmpBTsz"
      },
      "outputs": [],
      "source": [
        "def norm_value(input):\n",
        "    norm = []\n",
        "\n",
        "    for i in input['standard_value']:\n",
        "        if i > 100000000:\n",
        "          i = 100000000\n",
        "        norm.append(i)\n",
        "\n",
        "    input['standard_value_norm'] = norm\n",
        "    x = input.drop('standard_value', 1)\n",
        "\n",
        "    return x"
      ]
    },
    {
      "cell_type": "code",
      "execution_count": null,
      "metadata": {
        "id": "1moxaJz_BVOh"
      },
      "outputs": [],
      "source": [
        "df_norm = norm_value(df_combine)\n",
        "df_norm"
      ]
    },
    {
      "cell_type": "code",
      "execution_count": null,
      "metadata": {
        "id": "Hd1BgCNJaEMH"
      },
      "outputs": [],
      "source": [
        "df_norm.to_csv('corona_bioactivity_data.csv', index=False)"
      ]
    },
    {
      "cell_type": "code",
      "execution_count": null,
      "metadata": {
        "id": "KeIlGxL0aJ1k"
      },
      "outputs": [],
      "source": [
        "!cp corona_bioactivity_data.csv \"/content/gdrive/My Drive/Colab Notebooks/Bio_project\""
      ]
    },
    {
      "cell_type": "code",
      "execution_count": null,
      "metadata": {
        "id": "-NByun4sBXo9"
      },
      "outputs": [],
      "source": [
        "df_norm.standard_value_norm.describe()"
      ]
    },
    {
      "cell_type": "code",
      "execution_count": null,
      "metadata": {
        "id": "TXSWwy84Bg2m"
      },
      "outputs": [],
      "source": [
        "df_final = pIC50(df_norm)\n",
        "df_final"
      ]
    },
    {
      "cell_type": "code",
      "execution_count": null,
      "metadata": {
        "id": "FuVyhRX2CQXQ"
      },
      "outputs": [],
      "source": [
        "df_final.pIC50.describe()"
      ]
    },
    {
      "cell_type": "markdown",
      "metadata": {
        "id": "vCsV-VG_CrVG"
      },
      "source": [
        "**Removing the 'intermediate' bioactivity class**\n",
        "\n",
        "Here, we will be removing the ``intermediate`` class from our data set."
      ]
    },
    {
      "cell_type": "code",
      "execution_count": null,
      "metadata": {
        "id": "PLzB03MYCaRX"
      },
      "outputs": [],
      "source": [
        "df_2class = df_final[df_final.bioactivity_class != 'intermediate']\n",
        "df_2class"
      ]
    },
    {
      "cell_type": "code",
      "execution_count": null,
      "metadata": {
        "id": "oKAEMROCFNla"
      },
      "outputs": [],
      "source": [
        "df_2class.to_csv('corona_bioactivity_data.csv', index=False)"
      ]
    },
    {
      "cell_type": "markdown",
      "metadata": {
        "id": "nKHcI8hgO4D-"
      },
      "source": [
        "**Exploratory Data Analysis (Chemical Space Analysis) via Lipinski descriptors**"
      ]
    },
    {
      "cell_type": "code",
      "execution_count": null,
      "metadata": {
        "id": "9kETFg5PClV-"
      },
      "outputs": [],
      "source": [
        "import seaborn as sns\n",
        "sns.set(style='ticks')\n",
        "import matplotlib.pyplot as plt"
      ]
    },
    {
      "cell_type": "markdown",
      "metadata": {
        "id": "fUooyhdLO8h_"
      },
      "source": [
        "**Frequency plot of the 2 bioactivity classes**"
      ]
    },
    {
      "cell_type": "code",
      "execution_count": null,
      "metadata": {
        "id": "PzCg1JSqO6YE"
      },
      "outputs": [],
      "source": [
        "plt.figure(figsize=(5.5, 5.5))\n",
        "\n",
        "sns.countplot(x='bioactivity_class', data=df_2class, edgecolor='black')\n",
        "\n",
        "plt.xlabel('Bio activity class', fontsize=14, fontweight='bold')\n",
        "plt.ylabel('Frequency', fontsize=14, fontweight='bold')\n",
        "\n",
        "plt.savefig('plot_bio_activity_class.pdf')"
      ]
    },
    {
      "cell_type": "markdown",
      "metadata": {
        "id": "YxggmdClPKnm"
      },
      "source": [
        "**Scatter plot of MW versus LogP**\n",
        "\n",
        "It can be seen that the 2 bioactivity classes are spanning similar chemical spaces as evident by the scatter plot of MW vs LogP."
      ]
    },
    {
      "cell_type": "code",
      "execution_count": null,
      "metadata": {
        "id": "FD9JR0TJPAXt"
      },
      "outputs": [],
      "source": [
        "plt.figure(figsize=(5.5, 5.5))\n",
        "\n",
        "sns.scatterplot(x='MW', y='LogP', data=df_2class, hue='bioactivity_class', size='pIC50', edgecolor='black', alpha=0.7)\n",
        "\n",
        "plt.xlabel('MW', fontsize=14, fontweight='bold')\n",
        "plt.ylabel('LogP', fontsize=14, fontweight='bold')\n",
        "plt.legend(bbox_to_anchor=(1.05, 1), loc=2, borderaxespad=0)\n",
        "plt.savefig('plot_MW_vs_LogP.pdf')"
      ]
    },
    {
      "cell_type": "markdown",
      "metadata": {
        "id": "xv9vZMXbPTT2"
      },
      "source": [
        "**pIC50 Value**"
      ]
    },
    {
      "cell_type": "code",
      "execution_count": null,
      "metadata": {
        "id": "239w5g3dPNvt"
      },
      "outputs": [],
      "source": [
        "plt.figure(figsize=(5.5, 5.5))\n",
        "\n",
        "sns.boxplot(x = 'bioactivity_class', y = 'pIC50', data = df_2class)\n",
        "\n",
        "plt.xlabel('Bioactivity class', fontsize=14, fontweight='bold')\n",
        "plt.ylabel('pIC50 value', fontsize=14, fontweight='bold')\n",
        "\n",
        "plt.savefig('plot_ic50.pdf')"
      ]
    },
    {
      "cell_type": "code",
      "execution_count": null,
      "metadata": {
        "id": "umM1-kKePYbD"
      },
      "outputs": [],
      "source": [
        "def mannwhitney(descriptor, verbose=False):\n",
        "  # https://machinelearningmastery.com/nonparametric-statistical-significance-tests-in-python/\n",
        "  from numpy.random import seed\n",
        "  from numpy.random import randn\n",
        "  from scipy.stats import mannwhitneyu\n",
        "\n",
        "# seed the random number generator\n",
        "  seed(1)\n",
        "\n",
        "# actives and inactives\n",
        "  selection = [descriptor, 'bioactivity_class']\n",
        "  df = df_2class[selection]\n",
        "  active = df[df.bioactivity_class == 'active']\n",
        "  active = active[descriptor]\n",
        "\n",
        "  selection = [descriptor, 'bioactivity_class']\n",
        "  df = df_2class[selection]\n",
        "  inactive = df[df.bioactivity_class == 'inactive']\n",
        "  inactive = inactive[descriptor]\n",
        "\n",
        "# compare samples\n",
        "  stat, p = mannwhitneyu(active, inactive)\n",
        "  #print('Statistics=%.3f, p=%.3f' % (stat, p))\n",
        "\n",
        "# interpret\n",
        "  alpha = 0.05\n",
        "  if p > alpha:\n",
        "    interpretation = 'Same distribution (fail to reject H0)'\n",
        "  else:\n",
        "    interpretation = 'Different distribution (reject H0)'\n",
        "\n",
        "  results = pd.DataFrame({'Descriptor':descriptor,\n",
        "                          'Statistics':stat,\n",
        "                          'p':p,\n",
        "                          'alpha':alpha,\n",
        "                          'Interpretation':interpretation}, index=[0])\n",
        "  filename = 'mannwhitneyu_' + descriptor + '.csv'\n",
        "  results.to_csv(filename)\n",
        "\n",
        "  return results"
      ]
    },
    {
      "cell_type": "code",
      "execution_count": null,
      "metadata": {
        "id": "BAwYh1VfPjPI"
      },
      "outputs": [],
      "source": [
        "mannwhitney('pIC50')"
      ]
    },
    {
      "cell_type": "code",
      "execution_count": null,
      "metadata": {
        "id": "17xMCF4OPpKT"
      },
      "outputs": [],
      "source": [
        "plt.figure(figsize=(5.5, 5.5))\n",
        "\n",
        "sns.boxplot(x = 'bioactivity_class', y = 'MW', data = df_2class)\n",
        "\n",
        "plt.xlabel('Bioactivity class', fontsize=14, fontweight='bold')\n",
        "plt.ylabel('MW', fontsize=14, fontweight='bold')\n",
        "\n",
        "plt.savefig('plot_MW.pdf')"
      ]
    },
    {
      "cell_type": "code",
      "execution_count": null,
      "metadata": {
        "id": "jwUTXHWzQQzC"
      },
      "outputs": [],
      "source": [
        "mannwhitney(\"MW\")"
      ]
    },
    {
      "cell_type": "markdown",
      "metadata": {
        "id": "41cGqtO3Qe-S"
      },
      "source": [
        "**Log p**"
      ]
    },
    {
      "cell_type": "code",
      "execution_count": null,
      "metadata": {
        "id": "ctqqhKCRQWxL"
      },
      "outputs": [],
      "source": [
        "plt.figure(figsize=(5.5, 5.5))\n",
        "\n",
        "sns.boxplot(x = 'bioactivity_class', y = 'LogP', data = df_2class)\n",
        "\n",
        "plt.xlabel('Bio_activity class', fontsize=14, fontweight='bold')\n",
        "plt.ylabel('LogP', fontsize=14, fontweight='bold')\n",
        "\n",
        "plt.savefig('plot_LogP.pdf')"
      ]
    },
    {
      "cell_type": "code",
      "execution_count": null,
      "metadata": {
        "id": "d_3QKUFyQa0b"
      },
      "outputs": [],
      "source": [
        "mannwhitney('LogP')"
      ]
    },
    {
      "cell_type": "markdown",
      "metadata": {
        "id": "iLGiGhAmQiXe"
      },
      "source": [
        "**NUMHDonors**"
      ]
    },
    {
      "cell_type": "code",
      "execution_count": null,
      "metadata": {
        "id": "fg0BifxeQeS1"
      },
      "outputs": [],
      "source": [
        "plt.figure(figsize=(5.5, 5.5))\n",
        "\n",
        "sns.boxplot(x = 'bioactivity_class', y = 'NumHDonors', data = df_2class)\n",
        "\n",
        "plt.xlabel('Bio_activity class', fontsize=14, fontweight='bold')\n",
        "plt.ylabel('NumHDonors', fontsize=14, fontweight='bold')\n",
        "\n",
        "plt.savefig('plot_NumHDonors.pdf')"
      ]
    },
    {
      "cell_type": "code",
      "execution_count": null,
      "metadata": {
        "id": "8ljxZNhEQnn4"
      },
      "outputs": [],
      "source": [
        "mannwhitney(\"NumHDonors\")"
      ]
    },
    {
      "cell_type": "markdown",
      "metadata": {
        "id": "WfL4thtfQuFa"
      },
      "source": [
        "**NumHAcceptors**"
      ]
    },
    {
      "cell_type": "code",
      "execution_count": null,
      "metadata": {
        "id": "ipucIbYOQsgQ"
      },
      "outputs": [],
      "source": [
        "plt.figure(figsize=(5.5, 5.5))\n",
        "\n",
        "sns.boxplot(x = 'bioactivity_class', y = 'NumHAcceptors', data = df_2class)\n",
        "\n",
        "plt.xlabel('Bio_activity class', fontsize=14, fontweight='bold')\n",
        "plt.ylabel('NumHAcceptors', fontsize=14, fontweight='bold')\n",
        "\n",
        "plt.savefig('plot_NumHAcceptors.pdf')"
      ]
    },
    {
      "cell_type": "code",
      "execution_count": null,
      "metadata": {
        "id": "RC1bXCrxQzCT"
      },
      "outputs": [],
      "source": [
        "mannwhitney('NumHAcceptors')"
      ]
    },
    {
      "cell_type": "markdown",
      "metadata": {
        "id": "ztfVkoUwQ_yk"
      },
      "source": [
        "**pIC50 values**\n",
        "\n",
        "Taking a look at pIC50 values, the actives and inactives displayed statistically significant difference, which is to be expected since threshold values (IC50 < 1,000 nM = Actives while IC50 > 10,000 nM = Inactives, corresponding to pIC50 > 6 = Actives and pIC50 < 5 = Inactives) were used to define actives and inactives.\n",
        "\n",
        "**Lipinski's descriptors**\n",
        "\n",
        " The 4 Lipinski's descriptors (MW, LogP, NumHDonors and NumHAcceptors), only LogP exhibited no difference between the actives and inactives while the other 3 descriptors (MW, NumHDonors and NumHAcceptors) shows statistically significant difference between actives and inactives."
      ]
    },
    {
      "cell_type": "code",
      "execution_count": null,
      "metadata": {
        "id": "GEpEt9rSQ3WY"
      },
      "outputs": [],
      "source": [
        "#Ziping the all the output files\n",
        "! zip -r results.zip . -i *.csv *.pdf"
      ]
    },
    {
      "cell_type": "markdown",
      "metadata": {
        "id": "F18q1ZPPSYr_"
      },
      "source": [
        "# Part 3 - Descriptor Calculation and Dataset Preparation"
      ]
    },
    {
      "cell_type": "markdown",
      "metadata": {
        "id": "uWMR8ZqLSlv9"
      },
      "source": [
        "we will be calculating molecular descriptors that are essentially quantitative description of the compounds in the dataset"
      ]
    },
    {
      "cell_type": "markdown",
      "metadata": {
        "id": "B3YA5LNaUt2V"
      },
      "source": [
        "lipinski descriptor will provide us with a set of simple molecular descriptors that essentially will be giving us a quick overview of the drug-like properties of the molecule and so historically christopher lipinski created a set of four descriptors that he had investigated in his research that are responsible for drug-like properties whereby he analyzed a set of orally active drugs and then he came up with this rule of five whereby compounds that are passing the rule of five will make good oral drugs.\n",
        "\n",
        "The lipinski descriptor will be describing the global features of the molecule, in particular the molecular size of the molecule, its solubility, and the number of hydrogen bond donors and acceptors, which is the propensity to accept and donate hydrogen bonds, while the pubchem fingerprints, which we will be using today as well for the model building, are describing the local features of the molecules."
      ]
    },
    {
      "cell_type": "code",
      "execution_count": null,
      "metadata": {
        "id": "L0HAVPn5SiK9"
      },
      "outputs": [],
      "source": [
        "! wget https://github.com/dataprofessor/bioinformatics/raw/master/padel.zip\n",
        "! wget https://github.com/dataprofessor/bioinformatics/raw/master/padel.sh"
      ]
    },
    {
      "cell_type": "code",
      "execution_count": null,
      "metadata": {
        "id": "XqqMsQbaVbbe"
      },
      "outputs": [],
      "source": [
        "! unzip padel.zip"
      ]
    },
    {
      "cell_type": "code",
      "execution_count": null,
      "metadata": {
        "id": "3QUPRo90W0QL"
      },
      "outputs": [],
      "source": [
        "import pandas as pd"
      ]
    },
    {
      "cell_type": "code",
      "execution_count": null,
      "metadata": {
        "id": "80llfwC0aqXC"
      },
      "outputs": [],
      "source": [
        "df3 = pd.read_csv('//content/corona_bioactivity_data.csv')\n",
        "df3"
      ]
    },
    {
      "cell_type": "code",
      "execution_count": null,
      "metadata": {
        "id": "u37ecrP5auIB"
      },
      "outputs": [],
      "source": [
        "selection = ['canonical_smiles','molecule_chembl_id']\n",
        "df3_selection = df3[selection]\n",
        "df3_selection.to_csv('molecule.smi', sep='\\t', index=False, header=False)"
      ]
    },
    {
      "cell_type": "code",
      "execution_count": null,
      "metadata": {
        "id": "TjMXjY7_a3dU"
      },
      "outputs": [],
      "source": [
        "! cat molecule.smi | head -5"
      ]
    },
    {
      "cell_type": "code",
      "execution_count": null,
      "metadata": {
        "id": "h07yPYPya4p6"
      },
      "outputs": [],
      "source": [
        "! cat molecule.smi | wc -l"
      ]
    },
    {
      "cell_type": "markdown",
      "metadata": {
        "id": "6Lcj9kZza70d"
      },
      "source": [
        "**Calculate fingerprint descriptors\n",
        "Calculate PaDEL descriptors**"
      ]
    },
    {
      "cell_type": "code",
      "execution_count": null,
      "metadata": {
        "id": "cXDjmc0Ia52e"
      },
      "outputs": [],
      "source": [
        "! cat padel.sh"
      ]
    },
    {
      "cell_type": "code",
      "execution_count": null,
      "metadata": {
        "id": "6bzuqxqLbDCg"
      },
      "outputs": [],
      "source": [
        "! bash padel.sh"
      ]
    },
    {
      "cell_type": "code",
      "execution_count": null,
      "metadata": {
        "id": "23jEmggKbEac"
      },
      "outputs": [],
      "source": [
        "! ls -l"
      ]
    },
    {
      "cell_type": "markdown",
      "metadata": {
        "id": "PZz8wZrfbKgq"
      },
      "source": [
        "**Preparing the X and Y Data Matrices\n",
        "X data matrix**"
      ]
    },
    {
      "cell_type": "code",
      "execution_count": null,
      "metadata": {
        "id": "XYIarIkHbMiJ"
      },
      "outputs": [],
      "source": [
        "df3_X = pd.read_csv('descriptors_output.csv')"
      ]
    },
    {
      "cell_type": "code",
      "execution_count": null,
      "metadata": {
        "id": "gckDxRvvbRYe"
      },
      "outputs": [],
      "source": [
        "df3_X"
      ]
    },
    {
      "cell_type": "code",
      "execution_count": null,
      "metadata": {
        "id": "nXvJo5A5bTbN"
      },
      "outputs": [],
      "source": [
        "df3_X = df3_X.drop(columns=['Name'])\n",
        "df3_X"
      ]
    },
    {
      "cell_type": "markdown",
      "metadata": {
        "id": "8oWgSDEObWjB"
      },
      "source": [
        "**Y variable\n",
        "Convert IC50 to pIC50**"
      ]
    },
    {
      "cell_type": "code",
      "execution_count": null,
      "metadata": {
        "id": "O_zEZUIqbUD2"
      },
      "outputs": [],
      "source": [
        "df3_Y = df3['pIC50']\n",
        "df3_Y"
      ]
    },
    {
      "cell_type": "code",
      "execution_count": null,
      "metadata": {
        "id": "qAz7qoYwbcIt"
      },
      "outputs": [],
      "source": [
        "#Combining X and Y\n",
        "dataset3 = pd.concat([df3_X,df3_Y], axis=1)\n",
        "dataset3"
      ]
    },
    {
      "cell_type": "code",
      "execution_count": null,
      "metadata": {
        "id": "lpFtub_ZbfN7"
      },
      "outputs": [],
      "source": [
        "dataset3.to_csv('corona_bioactivity_data_3class_pIC50_pubchem_fp.csv', index=False)"
      ]
    },
    {
      "cell_type": "code",
      "execution_count": null,
      "metadata": {
        "id": "fqvNS4wOcNkX"
      },
      "outputs": [],
      "source": [
        "!cp corona_bioactivity_data_3class_pIC50_pubchem_fp.csv \"/content/gdrive/My Drive/Colab Notebooks/Bio_project\""
      ]
    },
    {
      "cell_type": "markdown",
      "metadata": {
        "id": "7JbLConguySx"
      },
      "source": [
        "## From Here.....\n",
        "https://github.com/gaganchapa/Credit-Card-Fraud-Detection/blob/main/data.csv\n",
        "\n",
        "\n",
        "\n"
      ]
    },
    {
      "cell_type": "markdown",
      "metadata": {
        "id": "Q2JfyRKRb26Z"
      },
      "source": [
        "# Part 4 Regression Models with Random Forest"
      ]
    },
    {
      "cell_type": "code",
      "execution_count": null,
      "metadata": {
        "id": "vCgobWpQbk7K"
      },
      "outputs": [],
      "source": [
        "import pandas as pd\n",
        "import seaborn as sns\n",
        "from sklearn.model_selection import train_test_split\n",
        "from sklearn.ensemble import RandomForestRegressor"
      ]
    },
    {
      "cell_type": "code",
      "execution_count": null,
      "metadata": {
        "id": "EOcV7i69cDlx"
      },
      "outputs": [],
      "source": [
        "df = pd.read_csv('corona_bioactivity_data_3class_pIC50_pubchem_fp.csv')"
      ]
    },
    {
      "cell_type": "code",
      "execution_count": null,
      "metadata": {
        "id": "tbCO0b9Pujk1"
      },
      "outputs": [],
      "source": [
        "df.to_csv(\"data.csv\")"
      ]
    },
    {
      "cell_type": "markdown",
      "metadata": {
        "id": "4R0YWVeceuDQ"
      },
      "source": [
        "**Input Features**"
      ]
    },
    {
      "cell_type": "code",
      "execution_count": null,
      "metadata": {
        "id": "jJb24_qIeq_A"
      },
      "outputs": [],
      "source": [
        "X = df.drop('pIC50', axis=1)\n",
        "X"
      ]
    },
    {
      "cell_type": "code",
      "execution_count": null,
      "metadata": {
        "id": "0IO-A9O-exJi"
      },
      "outputs": [],
      "source": [
        "Y = df.pIC50\n",
        "Y"
      ]
    },
    {
      "cell_type": "code",
      "execution_count": null,
      "metadata": {
        "id": "d9UWZY6kezKs"
      },
      "outputs": [],
      "source": [
        "X.shape"
      ]
    },
    {
      "cell_type": "code",
      "execution_count": null,
      "metadata": {
        "id": "tR2tvFjUe1gz"
      },
      "outputs": [],
      "source": [
        "Y.shape"
      ]
    },
    {
      "cell_type": "code",
      "execution_count": null,
      "metadata": {
        "id": "7Q4B99oqe2nW"
      },
      "outputs": [],
      "source": [
        "#Removing the low varience features\n",
        "from sklearn.feature_selection import VarianceThreshold\n",
        "selection = VarianceThreshold(threshold=(.8 * (1 - .8)))\n",
        "X = selection.fit_transform(X)"
      ]
    },
    {
      "cell_type": "code",
      "execution_count": null,
      "metadata": {
        "id": "mlhjLHP_e8Y6"
      },
      "outputs": [],
      "source": [
        "X.shape"
      ]
    },
    {
      "cell_type": "code",
      "execution_count": null,
      "metadata": {
        "id": "E34VYRoTYDRh"
      },
      "outputs": [],
      "source": [
        "X"
      ]
    },
    {
      "cell_type": "markdown",
      "metadata": {
        "id": "LST81uZAfBhj"
      },
      "source": [
        "**Spliting the dataset**"
      ]
    },
    {
      "cell_type": "code",
      "execution_count": null,
      "metadata": {
        "id": "ldLIBpO8e-jH"
      },
      "outputs": [],
      "source": [
        "X_train, X_test, Y_train, Y_test = train_test_split(X, Y, test_size=0.2)"
      ]
    },
    {
      "cell_type": "code",
      "execution_count": null,
      "metadata": {
        "id": "x9yVzfQBfFc3"
      },
      "outputs": [],
      "source": [
        "X_train.shape, Y_train.shape"
      ]
    },
    {
      "cell_type": "code",
      "execution_count": null,
      "metadata": {
        "id": "PEK-LFP4fGuw"
      },
      "outputs": [],
      "source": [
        "X_test.shape, Y_test.shape"
      ]
    },
    {
      "cell_type": "code",
      "execution_count": null,
      "metadata": {
        "id": "7tOwvzknX4nf"
      },
      "outputs": [],
      "source": [
        "X_train"
      ]
    },
    {
      "cell_type": "markdown",
      "metadata": {
        "id": "rOCIrmTTfKFs"
      },
      "source": [
        "**Building a Regression Model using Random Forest**"
      ]
    },
    {
      "cell_type": "code",
      "source": [
        "from sklearn.metrics import mean_squared_error\n"
      ],
      "metadata": {
        "id": "6ouiD-FvEqj9"
      },
      "execution_count": null,
      "outputs": []
    },
    {
      "cell_type": "code",
      "execution_count": null,
      "metadata": {
        "id": "ADRYKvO4fH7A"
      },
      "outputs": [],
      "source": [
        "model_forest = RandomForestRegressor(n_estimators=10)\n",
        "model_forest.fit(X_train, Y_train)\n"
      ]
    },
    {
      "cell_type": "code",
      "execution_count": null,
      "metadata": {
        "id": "2M-PXKp6fN0q"
      },
      "outputs": [],
      "source": [
        "Y_pred = model_forest.predict(X_test)"
      ]
    },
    {
      "cell_type": "code",
      "source": [
        "mse_forest = mean_squared_error(Y_test, Y_pred)\n",
        "print(\"MSE for Random Forest: \",mse_forest)"
      ],
      "metadata": {
        "id": "FI-t2OyUE1IN"
      },
      "execution_count": null,
      "outputs": []
    },
    {
      "cell_type": "code",
      "execution_count": null,
      "metadata": {
        "id": "fMzxeaApf_B-"
      },
      "outputs": [],
      "source": [
        "!pip install seaborn"
      ]
    },
    {
      "cell_type": "code",
      "execution_count": null,
      "metadata": {
        "id": "HgER6RTjgGBR"
      },
      "outputs": [],
      "source": [
        "!pip install  matplotlib"
      ]
    },
    {
      "cell_type": "code",
      "execution_count": null,
      "metadata": {
        "id": "tZ3pV8BgfPc0"
      },
      "outputs": [],
      "source": [
        "import seaborn as sns\n",
        "import matplotlib.pyplot as plt\n",
        "\n",
        "sns.set(color_codes=True)\n",
        "sns.set_style(\"white\")\n",
        "\n",
        "ax = sns.regplot(x=Y_test, y=Y_pred, scatter_kws={'alpha':0.4})\n",
        "ax.set_xlabel('Experimental pIC50', fontsize='large', fontweight='bold')\n",
        "ax.set_ylabel('Predicted pIC50', fontsize='large', fontweight='bold')\n",
        "ax.set_xlim(0, 12)\n",
        "ax.set_ylim(0, 12)\n",
        "ax.figure.set_size_inches(5, 5)\n",
        "plt.show()"
      ]
    },
    {
      "cell_type": "markdown",
      "metadata": {
        "id": "MjAQMR51d7ol"
      },
      "source": [
        "# **ANN**"
      ]
    },
    {
      "cell_type": "code",
      "execution_count": null,
      "metadata": {
        "id": "ViNf-rhztMi3"
      },
      "outputs": [],
      "source": [
        "!pip install visualkeras==0.0.1"
      ]
    },
    {
      "cell_type": "code",
      "execution_count": null,
      "metadata": {
        "id": "yq8IT_NCtJMV"
      },
      "outputs": [],
      "source": [
        "import visualkeras\n"
      ]
    },
    {
      "cell_type": "code",
      "execution_count": null,
      "metadata": {
        "id": "PdxKZ_x7h7hm"
      },
      "outputs": [],
      "source": [
        "import tensorflow as tf\n",
        "from tensorflow import keras\n",
        "from tensorflow.keras import Sequential\n",
        "from tensorflow.keras.layers import Flatten, Dense,Dropout"
      ]
    },
    {
      "cell_type": "code",
      "execution_count": null,
      "metadata": {
        "id": "l_zevq0UQD4m"
      },
      "outputs": [],
      "source": [
        "model = Sequential()\n",
        "model.add(Dense(128, activation='relu', input_dim = X.shape[1]))\n",
        "model.add(Dense(64, activation='relu'))\n",
        "model.add(Dense(64, activation='relu'))\n",
        "\n",
        "model.add(Dense(1, activation = 'linear'))"
      ]
    },
    {
      "cell_type": "code",
      "execution_count": null,
      "metadata": {
        "id": "ydv_03Y9tclY"
      },
      "outputs": [],
      "source": [
        "from keras.utils.vis_utils import plot_model\n",
        "plot_model(model, to_file='model_plot.png', show_shapes=True, show_layer_names=True)"
      ]
    },
    {
      "cell_type": "code",
      "execution_count": null,
      "metadata": {
        "id": "PJMbJkMVtK3i"
      },
      "outputs": [],
      "source": [
        "visualkeras.layered_view(model)"
      ]
    },
    {
      "cell_type": "code",
      "execution_count": null,
      "metadata": {
        "id": "6G7GWpzYh_8k"
      },
      "outputs": [],
      "source": [
        "model.compile(loss='mean_squared_error', optimizer='adam', metrics=['mae'])\n",
        "model.summary()"
      ]
    },
    {
      "cell_type": "code",
      "source": [
        "from keras.utils.vis_utils import plot_model\n",
        "plot_model(model, to_file='model_plot.png', show_shapes=True, show_layer_names=True)"
      ],
      "metadata": {
        "id": "i2CukkFCD35c"
      },
      "execution_count": null,
      "outputs": []
    },
    {
      "cell_type": "code",
      "execution_count": null,
      "metadata": {
        "id": "dOQl6jd1jQ98"
      },
      "outputs": [],
      "source": [
        "history = model.fit(X_train, Y_train, validation_split=0.5, epochs =15)\n"
      ]
    },
    {
      "cell_type": "code",
      "execution_count": null,
      "metadata": {
        "id": "NlklLte8kQo8"
      },
      "outputs": [],
      "source": [
        "ann_y_pred = model.predict(X_test)"
      ]
    },
    {
      "cell_type": "code",
      "execution_count": null,
      "metadata": {
        "id": "JYAUv7N4sDYF"
      },
      "outputs": [],
      "source": [
        "from sklearn.metrics import r2_score\n",
        "import numpy as np\n",
        "from sklearn.metrics import mean_squared_error\n",
        "\n",
        "# r2 = r2_score(ann_y_pred, Y_test)\n",
        "mse_ann = mean_squared_error(ann_y_pred, Y_test)\n",
        "root_mse = np.sqrt(mse_ann)\n",
        "\n",
        "print('MSE score:', root_mse)"
      ]
    },
    {
      "cell_type": "code",
      "execution_count": null,
      "metadata": {
        "id": "mFq-za8EjYPD"
      },
      "outputs": [],
      "source": [
        "from matplotlib import pyplot as plt\n",
        "#plot the training and validation accuracy and loss at each epoch\n",
        "loss = history.history['loss']\n",
        "val_loss = history.history['val_loss']\n",
        "epochs = range(1, len(loss) + 1)\n",
        "plt.plot(epochs, loss, 'y', label='Training loss')\n",
        "plt.plot(epochs, val_loss, 'r', label='Validation loss')\n",
        "plt.title('Training and validation loss')\n",
        "plt.xlabel('Epochs')\n",
        "plt.ylabel('Loss')\n",
        "plt.legend()\n",
        "plt.show()"
      ]
    },
    {
      "cell_type": "markdown",
      "metadata": {
        "id": "g_uFx8H-lVhZ"
      },
      "source": [
        "CNN\n"
      ]
    },
    {
      "cell_type": "code",
      "execution_count": null,
      "metadata": {
        "id": "02vlTWDrmH8r"
      },
      "outputs": [],
      "source": [
        "\n",
        "import tensorflow as tf\n",
        "from tensorflow import keras\n",
        "from tensorflow.keras import Sequential\n",
        "from tensorflow.keras.layers import Flatten, Dense, Dropout, BatchNormalization\n",
        "from tensorflow.keras.layers import Conv1D, MaxPool1D\n",
        "\n",
        "from tensorflow.keras.optimizers import Adam\n",
        "\n",
        "\n",
        "print(tf.__version__)"
      ]
    },
    {
      "cell_type": "code",
      "execution_count": null,
      "metadata": {
        "id": "-2v1_vsXm6-3"
      },
      "outputs": [],
      "source": [
        "X.shape[1]"
      ]
    },
    {
      "cell_type": "code",
      "execution_count": null,
      "metadata": {
        "id": "nSPmB8B0nhea"
      },
      "outputs": [],
      "source": [
        "X"
      ]
    },
    {
      "cell_type": "code",
      "execution_count": null,
      "metadata": {
        "id": "cmGU7BJKnTXu"
      },
      "outputs": [],
      "source": [
        "X_train.shape"
      ]
    },
    {
      "cell_type": "code",
      "execution_count": null,
      "metadata": {
        "id": "mvLm8dR5nY4U"
      },
      "outputs": [],
      "source": [
        "X_train = X_train.reshape(16,130,1)"
      ]
    },
    {
      "cell_type": "code",
      "execution_count": null,
      "metadata": {
        "id": "UYPuA6wXjkop"
      },
      "outputs": [],
      "source": [
        "model_cnn = Sequential()\n",
        "model_cnn.add(Conv1D(filters=64,kernel_size=3,activation='relu', input_shape =(130,1)))\n",
        "# model.add(MaxPool1D(pool_size=2))\n",
        "model_cnn.add(Conv1D(filters=32, kernel_size=3, activation='relu'))\n",
        "# model.add(MaxPool1D(pool_size=2))\n",
        "# model.add(Conv1D(filters=64, kernel_size=2, activation='relu'))\n",
        "# model_cnn.add(Conv1D(filters=16, kernel_size=2, activation='relu'))\n",
        "model_cnn.add(Flatten())\n",
        "model_cnn.add(Dense(16, activation='relu'))\n",
        "\n",
        "\n",
        "model_cnn.add(Dense(1, activation='linear'))"
      ]
    },
    {
      "cell_type": "code",
      "execution_count": null,
      "metadata": {
        "id": "UooKu_bhtrAS"
      },
      "outputs": [],
      "source": [
        "from keras.utils.vis_utils import plot_model\n",
        "plot_model(model_cnn, to_file='model_plot.png', show_shapes=True, show_layer_names=True)"
      ]
    },
    {
      "cell_type": "code",
      "execution_count": null,
      "metadata": {
        "id": "oRTOfE6qlizJ"
      },
      "outputs": [],
      "source": [
        "model_cnn.summary()\n"
      ]
    },
    {
      "cell_type": "code",
      "execution_count": null,
      "metadata": {
        "id": "otxoaS0woDbo"
      },
      "outputs": [],
      "source": [
        "model_cnn.compile(loss='mean_squared_error', optimizer='adam', metrics=['mae'])\n",
        "history_cnn=model_cnn.fit(X_train,Y_train,epochs=25, validation_split= 0.3,verbose=1)"
      ]
    },
    {
      "cell_type": "code",
      "execution_count": null,
      "metadata": {
        "id": "vGsAH3_6oK49"
      },
      "outputs": [],
      "source": [
        "cnn_y_pred = model_cnn.predict(X_test)\n"
      ]
    },
    {
      "cell_type": "code",
      "execution_count": null,
      "metadata": {
        "id": "rax8aQMGrSOT"
      },
      "outputs": [],
      "source": [
        "from sklearn.metrics import r2_score\n",
        "r2 = r2_score(cnn_y_pred, Y_test)\n",
        "print('R2 score:', r2)"
      ]
    },
    {
      "cell_type": "code",
      "execution_count": null,
      "metadata": {
        "id": "GB_vjwi_wy-s"
      },
      "outputs": [],
      "source": [
        "# r2 = r2_score(ann_y_pred, Y_test)\n",
        "mse_cnn = mean_squared_error(cnn_y_pred, Y_test)\n",
        "# root_mse = np.sqrt(mse_ann)\n",
        "\n",
        "print('MSE score:', mse_cnn)"
      ]
    },
    {
      "cell_type": "code",
      "execution_count": null,
      "metadata": {
        "id": "Td2Dtlsew6LB"
      },
      "outputs": [],
      "source": [
        "from matplotlib import pyplot as plt\n",
        "#plot the training and validation accuracy and loss at each epoch\n",
        "loss = history_cnn.history['loss']\n",
        "val_loss = history_cnn.history['val_loss']\n",
        "epochs = range(1, len(loss) + 1)\n",
        "plt.plot(epochs, loss, 'y', label='Training loss')\n",
        "plt.plot(epochs, val_loss, 'r', label='Validation loss')\n",
        "plt.title('Training and validation loss')\n",
        "plt.xlabel('Epochs')\n",
        "plt.ylabel('Loss')\n",
        "plt.legend()\n",
        "plt.show()"
      ]
    },
    {
      "cell_type": "code",
      "execution_count": null,
      "metadata": {
        "id": "QSDc5Bn3xdZV"
      },
      "outputs": [],
      "source": [
        "import matplotlib.pyplot as plt\n",
        "fig = plt.figure()\n",
        "ax.set_title('Loss on Different Models')\n",
        "ax = fig.add_axes([0,0,1,1])\n",
        "langs = ['ANN', 'CNN', 'Random Forest']\n",
        "students = [mse_ann,mse_cnn,mse_forest]\n",
        "ax.bar(langs,students)\n",
        "plt.title(\"Loss Plot on different Models\")\n",
        "plt.show()"
      ]
    },
    {
      "cell_type": "code",
      "source": [],
      "metadata": {
        "id": "S7O0H3BHEJGh"
      },
      "execution_count": null,
      "outputs": []
    }
  ],
  "metadata": {
    "accelerator": "GPU",
    "colab": {
      "provenance": [],
      "gpuType": "T4"
    },
    "kernelspec": {
      "display_name": "Python 3",
      "name": "python3"
    },
    "language_info": {
      "name": "python"
    }
  },
  "nbformat": 4,
  "nbformat_minor": 0
}